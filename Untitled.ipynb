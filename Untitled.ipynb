{
 "cells": [
  {
   "cell_type": "code",
   "execution_count": 70,
   "metadata": {},
   "outputs": [],
   "source": [
    "import torch\n",
    "import numpy as np\n",
    "from torch import nn\n",
    "from torch import optim\n",
    "import os\n",
    "import pandas as pd\n",
    "import torch.nn.functional as F\n",
    "from torchvision import datasets ,transforms, models\n",
    "%matplotlib inline\n",
    "%config InlineBackend.figure_format = 'retina'\n",
    "import matplotlib.pyplot as plt\n",
    "from torch.autograd import Variable\n",
    "import random\n",
    "from PIL import Image\n",
    "from torch.utils.data import Dataset, DataLoader\n",
    "from torch.utils.data.sampler import SubsetRandomSampler"
   ]
  },
  {
   "cell_type": "code",
   "execution_count": 64,
   "metadata": {},
   "outputs": [],
   "source": [
    "class AgeDataset(Dataset):\n",
    "    def __init__(self,csvfile,datadir,transform=None,should_invert=False):\n",
    "        self.transform=transform\n",
    "        self.df=pd.read_csv(csvfile)\n",
    "        self.should_invert=should_invert\n",
    "        \n",
    "        self.class_to_idx={\"Child\":0,\"Teenagers\":1,\"Adults\":2,\"Old\":3}\n",
    "        \n",
    "    def __len__(self):\n",
    "        return len(self.df['name'])\n",
    "    def __getitem__(self,idx):\n",
    "        \n",
    "        fileidx=random.randint(0,len(self.df['name']))\n",
    "        imgname=self.df.iloc[fileidx,0]\n",
    "        imgpath=os.path.join(datadir,imgname)\n",
    "        label=self.df.iloc[fileidx,4]\n",
    "        img = Image.open(imgpath)\n",
    "        if self.transform:\n",
    "            img=self.transform(img)\n",
    "            \n",
    "        label=self.class_to_idx[label]\n",
    "            \n",
    "        return img,label\n",
    "            \n",
    "            \n",
    "        \n",
    "        \n",
    "            "
   ]
  },
  {
   "cell_type": "code",
   "execution_count": 65,
   "metadata": {},
   "outputs": [],
   "source": [
    "transform=transforms.Compose([transforms.Resize((100,100)),\n",
    "                              transforms.ToTensor()])"
   ]
  },
  {
   "cell_type": "code",
   "execution_count": 54,
   "metadata": {},
   "outputs": [
    {
     "data": {
      "text/plain": [
       "['.git',\n",
       " '.ipynb_checkpoints',\n",
       " 'Age Dataset',\n",
       " 'CreateDataset.py',\n",
       " 'Ethnicity Dataset',\n",
       " 'Face_data.csv',\n",
       " 'Gender Dataset',\n",
       " 'Raw Data',\n",
       " 'Untitled.ipynb']"
      ]
     },
     "execution_count": 54,
     "metadata": {},
     "output_type": "execute_result"
    }
   ],
   "source": [
    "os.listdir(\".\")"
   ]
  },
  {
   "cell_type": "code",
   "execution_count": 66,
   "metadata": {},
   "outputs": [],
   "source": [
    "datadir=\"./Raw Data\"\n",
    "csvfile=\"Face_data.csv\"\n",
    "\n",
    "dataset=AgeDataset(csvfile,datadir,transform=transform,should_invert=False)"
   ]
  },
  {
   "cell_type": "code",
   "execution_count": 69,
   "metadata": {},
   "outputs": [
    {
     "name": "stdout",
     "output_type": "stream",
     "text": [
      "torch.Size([32, 3, 100, 100])\n",
      "tensor([3, 2, 2, 2, 3, 2, 2, 2, 3, 2, 2, 1, 2, 2, 2, 1, 2, 2, 2, 2, 2, 0, 2, 2,\n",
      "        2, 2, 2, 2, 2, 1, 2, 2])\n"
     ]
    }
   ],
   "source": [
    "tryLoader=DataLoader(dataset,batch_size=32,shuffle=True)\n",
    "batch=next(iter(tryLoader))\n",
    "img,label=batch\n",
    "print(img.shape)\n",
    "print(label)\n"
   ]
  },
  {
   "cell_type": "code",
   "execution_count": 78,
   "metadata": {},
   "outputs": [],
   "source": [
    "def load_split_train_test(dataset,transform,valid_size=0.2):\n",
    "    #splitting train and test dataset\n",
    "    num_train=len(dataset)\n",
    "    indices=list(range(num_train))\n",
    "    split=int(np.floor(valid_size*num_train))\n",
    "    \n",
    "    np.random.shuffle(indices)\n",
    "    train_idx,test_idx=indices[split:],indices[:split]\n",
    "    \n",
    "    trainSampler=SubsetRandomSampler(train_idx)\n",
    "    testSampler=SubsetRandomSampler(test_idx)\n",
    "    \n",
    "    trainLoader=DataLoader(dataset,sampler=trainSampler,batch_size=32)\n",
    "    testLoader=DataLoader(dataset,sampler=testSampler,batch_size=32)"
   ]
  },
  {
   "cell_type": "code",
   "execution_count": 79,
   "metadata": {},
   "outputs": [
    {
     "ename": "TypeError",
     "evalue": "cannot unpack non-iterable NoneType object",
     "output_type": "error",
     "traceback": [
      "\u001b[1;31m---------------------------------------------------------------------------\u001b[0m",
      "\u001b[1;31mTypeError\u001b[0m                                 Traceback (most recent call last)",
      "\u001b[1;32m<ipython-input-79-e17fdd5e59fe>\u001b[0m in \u001b[0;36m<module>\u001b[1;34m\u001b[0m\n\u001b[1;32m----> 1\u001b[1;33m \u001b[0mtrainloader\u001b[0m\u001b[1;33m,\u001b[0m\u001b[0mtestloader\u001b[0m\u001b[1;33m=\u001b[0m\u001b[0mload_split_train_test\u001b[0m\u001b[1;33m(\u001b[0m\u001b[0mdataset\u001b[0m\u001b[1;33m,\u001b[0m\u001b[0mtransform\u001b[0m\u001b[1;33m,\u001b[0m\u001b[1;36m.2\u001b[0m\u001b[1;33m)\u001b[0m\u001b[1;33m\u001b[0m\u001b[1;33m\u001b[0m\u001b[0m\n\u001b[0m\u001b[0;32m      2\u001b[0m \u001b[1;33m\u001b[0m\u001b[0m\n\u001b[0;32m      3\u001b[0m \u001b[0mprint\u001b[0m\u001b[1;33m(\u001b[0m\u001b[0mtrainloader\u001b[0m\u001b[1;33m.\u001b[0m\u001b[0mdataset\u001b[0m\u001b[1;33m.\u001b[0m\u001b[0mclasses\u001b[0m\u001b[1;33m)\u001b[0m\u001b[1;33m\u001b[0m\u001b[1;33m\u001b[0m\u001b[0m\n",
      "\u001b[1;31mTypeError\u001b[0m: cannot unpack non-iterable NoneType object"
     ]
    }
   ],
   "source": [
    "trainloader,testloader=load_split_train_test(dataset,transform,.2)\n",
    "\n",
    "print(trainloader.dataset.classes)"
   ]
  }
 ],
 "metadata": {
  "kernelspec": {
   "display_name": "Python 3",
   "language": "python",
   "name": "python3"
  },
  "language_info": {
   "codemirror_mode": {
    "name": "ipython",
    "version": 3
   },
   "file_extension": ".py",
   "mimetype": "text/x-python",
   "name": "python",
   "nbconvert_exporter": "python",
   "pygments_lexer": "ipython3",
   "version": "3.7.4"
  }
 },
 "nbformat": 4,
 "nbformat_minor": 2
}
